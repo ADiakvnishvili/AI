{
 "cells": [
  {
   "cell_type": "markdown",
   "metadata": {},
   "source": [
    "# Sigma-algebras"
   ]
  },
  {
   "cell_type": "markdown",
   "metadata": {},
   "source": [
    "#### Prove that:\n",
    "Composition of mesurable functions is a mesurable function"
   ]
  },
  {
   "cell_type": "markdown",
   "metadata": {},
   "source": [
    "<b>proof:</b>For every $\\sigma$-algebra $\\mathcal{F}$ on the set $X$:\n",
    "- $\\emptyset \\in \\mathcal{F}$. By the definition of $\\sigma$-algerba $X\\in \\mathcal{F}$ and $X-X\\in \\mathcal{F}$ $X-X=\\emptyset$ and we have $\\emptyset \\in \\mathcal{F}$\n",
    "- For every $(A_n)_{n = 1}^{\\infty}$ such that $A_n \\in \\mathcal{F}$ for any $1 \\le n \\le \\infty$: $\\bigcap_{n=1}^{\\infty}A_n \\in \\mathcal{F}$. By the definition of $\\sigma$-algerba for every $(A_n)_{n = 1}^{\\infty}$ such that $A_n \\in \\mathcal{F}$ so $X-A_n \\in \\mathcal{F}$ for any  $\\bigcup_{n=1}^{\\infty}{(X-A_n)} \\in \\mathcal{F}$. And by De-Morgan's low we have $\\bigcap_{n=1}^{\\infty}A_n \\in \\mathcal{F}$."
   ]
  },
  {
   "cell_type": "markdown",
   "metadata": {},
   "source": [
    "## Probability"
   ]
  },
  {
   "cell_type": "markdown",
   "metadata": {},
   "source": [
    "#### Prove that:\n",
    "For probability mesure $P$ and events $A, B, C \\subset \\Omega$\n",
    "- $P(A \\cup B) = P(A) + P(B) - P(A \\cap B)$\n",
    "<br>"
   ]
  },
  {
   "cell_type": "markdown",
   "metadata": {},
   "source": [
    "<b>proof:</b><br>\n",
    "$A=(A\\backslash B)\\cup(A\\cap B)$ <br>\n",
    "$B=(B\\backslash A)\\cup(A\\cap B)$<br>\n",
    "$A\\cup B=(A\\backslash B)\\cup(A\\cap B)\\cup(B\\backslash A)$ <br>\n",
    "$P(A)=P(A\\backslash B)+P(A\\cap B)$ <br>\n",
    "$P(B)=P(B\\backslash A)+P(A\\cap B)$<br>\n",
    "$P(A\\cup B)=P(A\\backslash B)+P(A\\cap B)+P(B\\backslash A)$ so<br>\n",
    "$P(A\\cup B)=P(A)-P(A\\cap B)+P(B)-P(A\\cap B)+P(A\\cap B)=P(A)+P(B)-P(A\\cap B)$"
   ]
  },
  {
   "cell_type": "markdown",
   "metadata": {},
   "source": [
    "## Random variable\n"
   ]
  },
  {
   "cell_type": "markdown",
   "metadata": {},
   "source": [
    "#### Prove that:\n",
    "$$\n",
    "\\sigma^2 = \\operatorname{E}[X^2] - (\\operatorname{E}[X])^2\n",
    "$$\n",
    "Assuming that expectation exists\n",
    "<br>\n",
    "Denoted by $\\sigma^2$\n",
    "<br>"
   ]
  },
  {
   "cell_type": "markdown",
   "metadata": {},
   "source": [
    "$\\sigma^2=var(x)=E[x-E[x]]^2=E[x^2]-(E[x])^2$<br>\n",
    "$E[x-E[x]]^2=E[x^2-2xE[x]+(E[x])^2]=Ex^2-2ExEx+(Ex)^2=Ex^2-(Ex)^2$"
   ]
  },
  {
   "cell_type": "markdown",
   "metadata": {},
   "source": [
    "#  Total probability theroem"
   ]
  },
  {
   "cell_type": "markdown",
   "metadata": {},
   "source": [
    "$P(B)=\\displaystyle{\\sum_{i=1}^{n}P(A_i)P(B|A_i)}$<br>\n",
    "proof: By the distributive property we have, <br>\n",
    "$P(B)=P(B\\cap \\Omega)=P(B\\cap (\\displaystyle{\\bigcup_{i=1}^{n}A_i}))=P(\\displaystyle{\\bigcup_{i=1}^{n}(B\\cap A_i))}=\\displaystyle{\\sum_{i=1}^{n}P(B\\cap A_i)}=\\displaystyle{\\sum_{i=1}^{n}P(A_i)P(B|A_i)}$"
   ]
  },
  {
   "cell_type": "code",
   "execution_count": null,
   "metadata": {},
   "outputs": [],
   "source": []
  }
 ],
 "metadata": {
  "kernelspec": {
   "display_name": "Python 3",
   "language": "python",
   "name": "python3"
  },
  "language_info": {
   "codemirror_mode": {
    "name": "ipython",
    "version": 3
   },
   "file_extension": ".py",
   "mimetype": "text/x-python",
   "name": "python",
   "nbconvert_exporter": "python",
   "pygments_lexer": "ipython3",
   "version": "3.7.3"
  }
 },
 "nbformat": 4,
 "nbformat_minor": 2
}
