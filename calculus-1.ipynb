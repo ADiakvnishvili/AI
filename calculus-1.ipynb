{
 "cells": [
  {
   "cell_type": "markdown",
   "metadata": {},
   "source": [
    "# calculus-1-homework"
   ]
  },
  {
   "cell_type": "markdown",
   "metadata": {},
   "source": [
    "#### Prove that:\n",
    "For every metric space (X, d):\n",
    "- For eny $\\mathcal{U} = \\{U | U$ is open in $(X, d)\\}$ holds $\\bigcup_{U \\in \\mathcal{U}} U$ is open in $(X, d)$\n",
    "- For eny two $U, V \\subset X$ open in $(X, d)$ holds: $U \\cap V$ is open in $(X, d)$\n"
   ]
  },
  {
   "cell_type": "markdown",
   "metadata": {},
   "source": [
    "### proofs:"
   ]
  },
  {
   "cell_type": "markdown",
   "metadata": {},
   "source": [
    "-  For eny $\\mathcal{U} = \\{U | U$ is open in $(X, d)\\}$ holds $\\bigcup_{U \\in \\mathcal{U}} U$ is open in $(X, d)$"
   ]
  },
  {
   "cell_type": "markdown",
   "metadata": {},
   "source": [
    "<b>proof:</b>\n",
    "Let $x \\in \\bigcup_{U \\in \\mathcal{U}} U$, which means there exist open set U where $x \\in U$ $=>$ there exists $r \\in R$ such that $B(x,r) \\subset U$ $=>$ each elements of $\\bigcup_{U \\in \\mathcal{U}}U$ there exists $B(x,r)$ such that $B(x,r) \\subset $$\\bigcup_{U \\in \\mathcal{U}}U$"
   ]
  },
  {
   "cell_type": "markdown",
   "metadata": {},
   "source": [
    "- For eny two $U, V \\subset X$ open in $(X, d)$ holds: $U \\cap V$ is open in $(X, d)$\n"
   ]
  },
  {
   "cell_type": "markdown",
   "metadata": {},
   "source": [
    "<b>proof:</b> Let $x \\in U \\cap V$ that means there exists $ r_1,r_2 \\in \\mathcal R$ such that $B(x,r_1) \\subset U$ and $B(x,r_2) \\subset V$ let $r = min\\{r_1,r_2\\}$ that we have $B(x,r) \\subset U$ and $B(x,r) \\subset V => B(x,r) \\subset U \\cap V$"
   ]
  },
  {
   "cell_type": "markdown",
   "metadata": {},
   "source": [
    "- For eny finity set $(U)_{i=1}^{n}$ of open sets in $(X, d)$, $\\bigcap_{i=1}^{n}U$ is open in $(X, d)$"
   ]
  },
  {
   "cell_type": "markdown",
   "metadata": {},
   "source": [
    "<b>proof:</b> Let $x \\in \\bigcap_{i=1}^{n}U_i$ is open in $(X, d)$ that means there exists $ r_1,r_2,...,r_n \\in \\mathcal R$ such that $B_1(x,r_1) \\subset U_1$ and $B_2(x,r_2) \\subset U_2, ... B_n(x,r_n) \\subset U_n$ let $r = min\\{r_1,r_2,...,r_n\\}$ that we have $B(x,r) \\subset U_n n=1,2,...$ =>$ B(x,r) \\subset \\bigcap_{i=1}^{n}U_i$"
   ]
  },
  {
   "cell_type": "markdown",
   "metadata": {},
   "source": [
    "- #### Prove that for set $U \\subset X$ is open if and only if for each point $x \\in U$ there exists the open neighbourhood $V$ of $x$ such that $V \\subset U$"
   ]
  },
  {
   "cell_type": "markdown",
   "metadata": {},
   "source": [
    "#  closed"
   ]
  },
  {
   "cell_type": "markdown",
   "metadata": {},
   "source": [
    "#### Prove that\n",
    "For every metric space (X, d):\n",
    "- For eny $\\mathcal{F} = \\{F | F$ is closed in $(X, d)\\}$ holds $\\bigcap_{F \\in \\mathcal{F}} F$ is closed in $(X, d)$\n",
    "- For eny two $F_1, F_2 \\subset X$ closed in $(X, d)$ holds: $F_1 \\cup F_2$ is closed in $(X, d)$"
   ]
  },
  {
   "cell_type": "markdown",
   "metadata": {},
   "source": [
    "- For eny $\\mathcal{F} = \\{F | F$ is closed in $(X, d)\\}$ holds $\\bigcap_{F \\in \\mathcal{F}} F$ is closed in $(X, d)$\n"
   ]
  },
  {
   "cell_type": "markdown",
   "metadata": {},
   "source": [
    "<b>proof:</b> We know that for any $ \\mathcal{V} = \\{U|U$ is open in $(X,d) \\} $ holds $ \\bigcup_{U \\in \\mathcal{V}} $ is open in $(X,d)$ Now if we use De Morgan's laws and consider that $ U = X-F $ we have got $ \\bigcap_{F \\in \\mathcal{F}} $ is closed in $ (X,d) $"
   ]
  },
  {
   "cell_type": "markdown",
   "metadata": {},
   "source": [
    "- For eny two $F_1, F_2 \\subset X$ closed in $(X, d)$ holds: $F_1 \\cup F_2$ is closed in $(X, d)$"
   ]
  },
  {
   "cell_type": "markdown",
   "metadata": {},
   "source": [
    "<b>proof:</b> we use De morgan's laws and if we use the properties about open sets this properties will be proven. Similarly approved any finity set $(F)_{i=i}^n $ if $ (F)_{i=i}^n $ are open sets in $(X,d), \\bigcup_{i=1}^n U $ is open in $(X,d)$"
   ]
  },
  {
   "cell_type": "markdown",
   "metadata": {},
   "source": [
    "#### Prove that, if $F \\subset X$ is closed then $X - F$ is open in $(X, d)$ \n"
   ]
  },
  {
   "cell_type": "markdown",
   "metadata": {},
   "source": [
    "<b>proof:</b> Let $F \\subset X $ is closed set,that means there exist open set $ U $ and $ F=X-U $ so we have got $ X-(X-U)=U $ and $ U $ is open set in $X$"
   ]
  },
  {
   "cell_type": "markdown",
   "metadata": {},
   "source": [
    "# Metrics in Euclidean spaces\n"
   ]
  },
  {
   "cell_type": "markdown",
   "metadata": {},
   "source": [
    "#### Prove that:\n",
    "- for every $u, v \\in \\mathbb{R}^{n}$: $d(u, v) \\geq 0$\n",
    "- for every $v \\in \\mathbb{R}^{n}$: $d(v, v) = 0$\n",
    "- for every $u, v \\in \\mathbb{R}^{n}$: $d(u, v) = d(v, u)$ (symmetry)\n",
    "- for every $u, v, w \\in \\mathbb{R}^{n}$: $d(u, w) \\leq d(v, u) + d(v, w)$ (triangle inequality)"
   ]
  },
  {
   "cell_type": "markdown",
   "metadata": {},
   "source": [
    "#### Prove the same properties hold for $d(u, v) = ||u-v||_1$ ($||u-v||_1 = \\sum_{i = 1}^{n}|u_i - v_i|$)\n"
   ]
  },
  {
   "cell_type": "markdown",
   "metadata": {},
   "source": [
    "In Euclidean spaces $d(u,v)=\\displaystyle{\\sum_{i=1}^n|u_i-v_i|}$<br>\n"
   ]
  },
  {
   "cell_type": "markdown",
   "metadata": {},
   "source": [
    "<b>Proofs:</b>"
   ]
  },
  {
   "cell_type": "markdown",
   "metadata": {},
   "source": [
    "- for every $u, v \\in \\mathbb{R}^{n}$: $d(u, v) \\geq 0$\n"
   ]
  },
  {
   "cell_type": "markdown",
   "metadata": {},
   "source": [
    "<b>proof:</b>We have sum of non-negative numbers and the result is non-negative.<br>"
   ]
  },
  {
   "cell_type": "markdown",
   "metadata": {},
   "source": [
    "- for every $v \\in \\mathbb{R}^{n}$: $d(v, v) = 0$\n"
   ]
  },
  {
   "cell_type": "markdown",
   "metadata": {},
   "source": [
    "<b>proof:</b> u=v $\\to u_i=v_i  \\forall i$ and $ d(v,v)= \\displaystyle{\\sum_{i=1}^n|v_i-v_i|} = 0$ <br>\n"
   ]
  },
  {
   "cell_type": "markdown",
   "metadata": {},
   "source": [
    "- for every $u, v \\in \\mathbb{R}^{n}$: $d(u, v) = d(v, u)$ (symmetry)\n"
   ]
  },
  {
   "cell_type": "markdown",
   "metadata": {},
   "source": [
    "<b>proof:</b>$ d(u,v)=\\displaystyle{\\sum_{i=1}^n|u_i-v_i|} = \\displaystyle{\\sum_{i=1}^n|v_i-u_i|}=d(v,u)$<br>"
   ]
  },
  {
   "cell_type": "markdown",
   "metadata": {},
   "source": [
    "- for every $u, v, w \\in \\mathbb{R}^{n}$: $d(u, w) \\leq d(v, u) + d(v, w)$ (triangle inequality)"
   ]
  },
  {
   "cell_type": "markdown",
   "metadata": {},
   "source": [
    "<b>proof:</b> $d(u,w)=\\displaystyle{\\sum_{i=1}^n|u_i-w_i|}=\\displaystyle{\\sum_{i=1}^n|(u_i-v_i)+(v_i-w_i)}|\\leq \\displaystyle{\\sum_{i=1}^n(|u_i-v_i|+|v_i-w_i|)}=d(u,v)+d(v,w)$"
   ]
  },
  {
   "cell_type": "markdown",
   "metadata": {},
   "source": [
    "## Sequences and limits"
   ]
  },
  {
   "cell_type": "markdown",
   "metadata": {},
   "source": [
    "#### Prove that if $x = \\lim_{n\\to\\infty}{x_n}$ and $x \\notin \\{-\\infty, \\infty\\}$ then $(x_i)_{i=1}^{\\infty} = (x_1, x_2, \\dots, x_n)$ is a Cauchy sequence"
   ]
  },
  {
   "cell_type": "markdown",
   "metadata": {},
   "source": [
    "<b>proof:</b> Given $\\varepsilon >0$, we find an index $N$ such that $|x_n-x|<{\\varepsilon\\over2}$ for $n>N$. Then if $m>N$ and $n>N$, we have $ |x_m-x_n|\\leq|x_m-x|+|x_n-x|<{\\varepsilon\\over2}+{\\varepsilon\\over2}=\\varepsilon $, and we have thus verified that the sequence is a Cauchy sequence."
   ]
  },
  {
   "cell_type": "markdown",
   "metadata": {},
   "source": []
  },
  {
   "cell_type": "markdown",
   "metadata": {},
   "source": [
    "## Continuous functions "
   ]
  },
  {
   "cell_type": "markdown",
   "metadata": {},
   "source": [
    "#### Prove that function is continuous in $c$ if for eny sequence $(x_n)_{n=1}^{\\infty} \\subset X$ such that $\\lim_{n \\to \\infty}x_n = c$ we have $\\lim_{n \\to \\infty}f(x_n) = f(c)$"
   ]
  },
  {
   "cell_type": "markdown",
   "metadata": {},
   "source": [
    "<b>proof:</b> Suppose $f$ is not continuous at $c$. If $f$ is not continuous at $c$ then $c$ cannot be an isolated point, since every function is continuous at an isolated point of its domain. If $f$ is not continuous there is some $\\varepsilon$ for which no matter how what $\\delta$ we choose there is a point $x_n\\in S$ with $|f(x_n)-f(c)|\\geq\\varepsilon$. So let's take $\\delta={1\\over n}$ and $x_n\\in S$, $|x_n-c|\\leq{1\\over n},|f(x_n)-f(c)|\\geq\\varepsilon$.Then $x_n\\to c$ but $f(x_n)\\not\\to f(c)$. Hence some sequnece of points x_n converges to c but $f(x_n)$ does not converge fo $f(c)$."
   ]
  },
  {
   "cell_type": "markdown",
   "metadata": {},
   "source": [
    "#### Prove that function is continuous if for every open set $V \\subset Y$ the $f^{-1}(V)$ is open in $X$"
   ]
  },
  {
   "cell_type": "markdown",
   "metadata": {},
   "source": [
    "<b>proof:</b> Let suppose that $f^{-1}(V)$ is open whenever $V$ is open in $Y$ and aim to prove that $f$ is continuous at each point in $X$ : given $a\\in Y$ and $\\varepsilon>0$, we know that the ball $B(f(a),\\varepsilon )$, is open in $\n",
    "X$. By assumption then, so is $f^{-1}(B(f(a),\\varepsilon))$. As $a\\in f^{-1}(B(f(a),\\varepsilon))$, it follows that there exists $\\delta >0$ such that $B(a,\\delta)\\subset f^{-1}(B(f(a),\\varepsilon))$.In other words $|x-a|<\\delta$ implies that $|f(x)-f(a)|<\\varepsilon$.This proves that $f$ is continous at $a$."
   ]
  },
  {
   "cell_type": "markdown",
   "metadata": {},
   "source": [
    "#### Prove that function is continuous if for every closed set $F \\subset Y$ the $f^{-1}(F)$ is open in $X$    "
   ]
  },
  {
   "cell_type": "markdown",
   "metadata": {},
   "source": [
    "<b>proof:</b> Assume that the preimage of any closed set is closed.<br>\n",
    "Let $U$ be any open set in $Y$.$Y\\backslash U$ is closed.Hence $f^{-1}(Y\\backslash U)=X\\backslash f^{-1}(U)$ is closed. Which implies that $f^{-1}(U)$ is open.Hence the preimjage of any open set is open, and $f$ is continuous by previous theorem."
   ]
  },
  {
   "cell_type": "markdown",
   "metadata": {},
   "source": [
    "#### Prove that any composition of continous functions is continous"
   ]
  },
  {
   "cell_type": "markdown",
   "metadata": {},
   "source": [
    "<b>proof:</b> Assume that $f:X\\to Y, g:Y\\to Z$ are continous function. Prove that composition is continous. Let $U\\subset Z$, becouse of  $g$ is continous $V=g^{-1}(U)$ is open in $Y$ and becouse of $f$ is countinous $f^{-1}(V)$ is open in $X$, that means $(f\\circ g)^{-1}(U)=f^{-1}(g^{-1}(U))=f^{-1}(V)$ is open."
   ]
  },
  {
   "cell_type": "code",
   "execution_count": null,
   "metadata": {},
   "outputs": [],
   "source": []
  }
 ],
 "metadata": {
  "kernelspec": {
   "display_name": "Python 3",
   "language": "python",
   "name": "python3"
  },
  "language_info": {
   "codemirror_mode": {
    "name": "ipython",
    "version": 3
   },
   "file_extension": ".py",
   "mimetype": "text/x-python",
   "name": "python",
   "nbconvert_exporter": "python",
   "pygments_lexer": "ipython3",
   "version": "3.7.3"
  }
 },
 "nbformat": 4,
 "nbformat_minor": 2
}
